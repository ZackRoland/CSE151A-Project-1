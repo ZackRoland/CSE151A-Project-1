{
 "cells": [
  {
   "cell_type": "code",
   "execution_count": 32,
   "id": "f76706b8",
   "metadata": {},
   "outputs": [
    {
     "name": "stdout",
     "output_type": "stream",
     "text": [
      "Requirement already satisfied: seaborn in c:\\users\\notgui\\appdata\\roaming\\python\\python313\\site-packages (0.13.2)\n",
      "Requirement already satisfied: scikit-learn in c:\\users\\notgui\\appdata\\roaming\\python\\python313\\site-packages (1.7.1)\n",
      "Requirement already satisfied: pandas in c:\\users\\notgui\\appdata\\roaming\\python\\python313\\site-packages (2.3.1)\n",
      "Requirement already satisfied: numpy in c:\\users\\notgui\\appdata\\roaming\\python\\python313\\site-packages (2.3.1)\n",
      "Requirement already satisfied: matplotlib in c:\\users\\notgui\\appdata\\roaming\\python\\python313\\site-packages (3.10.3)\n",
      "Requirement already satisfied: scipy>=1.8.0 in c:\\users\\notgui\\appdata\\roaming\\python\\python313\\site-packages (from scikit-learn) (1.16.1)\n",
      "Requirement already satisfied: joblib>=1.2.0 in c:\\users\\notgui\\appdata\\roaming\\python\\python313\\site-packages (from scikit-learn) (1.5.1)\n",
      "Requirement already satisfied: threadpoolctl>=3.1.0 in c:\\users\\notgui\\appdata\\roaming\\python\\python313\\site-packages (from scikit-learn) (3.6.0)\n",
      "Requirement already satisfied: python-dateutil>=2.8.2 in c:\\users\\notgui\\appdata\\roaming\\python\\python313\\site-packages (from pandas) (2.9.0.post0)\n",
      "Requirement already satisfied: pytz>=2020.1 in c:\\users\\notgui\\appdata\\roaming\\python\\python313\\site-packages (from pandas) (2025.2)\n",
      "Requirement already satisfied: tzdata>=2022.7 in c:\\users\\notgui\\appdata\\roaming\\python\\python313\\site-packages (from pandas) (2025.2)\n",
      "Requirement already satisfied: contourpy>=1.0.1 in c:\\users\\notgui\\appdata\\roaming\\python\\python313\\site-packages (from matplotlib) (1.3.3)\n",
      "Requirement already satisfied: cycler>=0.10 in c:\\users\\notgui\\appdata\\roaming\\python\\python313\\site-packages (from matplotlib) (0.12.1)\n",
      "Requirement already satisfied: fonttools>=4.22.0 in c:\\users\\notgui\\appdata\\roaming\\python\\python313\\site-packages (from matplotlib) (4.59.0)\n",
      "Requirement already satisfied: kiwisolver>=1.3.1 in c:\\users\\notgui\\appdata\\roaming\\python\\python313\\site-packages (from matplotlib) (1.4.8)\n",
      "Requirement already satisfied: packaging>=20.0 in c:\\users\\notgui\\appdata\\roaming\\python\\python313\\site-packages (from matplotlib) (25.0)\n",
      "Requirement already satisfied: pillow>=8 in c:\\users\\notgui\\appdata\\roaming\\python\\python313\\site-packages (from matplotlib) (11.3.0)\n",
      "Requirement already satisfied: pyparsing>=2.3.1 in c:\\users\\notgui\\appdata\\roaming\\python\\python313\\site-packages (from matplotlib) (3.2.3)\n",
      "Requirement already satisfied: six>=1.5 in c:\\users\\notgui\\appdata\\roaming\\python\\python313\\site-packages (from python-dateutil>=2.8.2->pandas) (1.17.0)\n"
     ]
    },
    {
     "name": "stderr",
     "output_type": "stream",
     "text": [
      "\n",
      "[notice] A new release of pip is available: 25.1.1 -> 25.2\n",
      "[notice] To update, run: python.exe -m pip install --upgrade pip\n"
     ]
    }
   ],
   "source": [
    "import sys\n",
    "!{sys.executable} -m pip install --user seaborn scikit-learn pandas numpy matplotlib\n",
    "\n",
    "import pandas as pd\n",
    "import numpy as np\n",
    "import matplotlib.pyplot as plt\n",
    "import seaborn as sns\n",
    "import sklearn as sk"
   ]
  },
  {
   "cell_type": "code",
   "execution_count": 33,
   "id": "17fb6fe8",
   "metadata": {},
   "outputs": [
    {
     "name": "stderr",
     "output_type": "stream",
     "text": [
      "C:\\Users\\notgui\\AppData\\Local\\Temp\\ipykernel_30996\\1967487325.py:1: DtypeWarning: Columns (31) have mixed types. Specify dtype option on import or set low_memory=False.\n",
      "  accidentdf1 = pd.read_csv('archive/accidents_2005_to_2007.csv')\n",
      "C:\\Users\\notgui\\AppData\\Local\\Temp\\ipykernel_30996\\1967487325.py:3: DtypeWarning: Columns (31) have mixed types. Specify dtype option on import or set low_memory=False.\n",
      "  accidentdf3 = pd.read_csv('archive/accidents_2012_to_2014.csv')\n"
     ]
    }
   ],
   "source": [
    "accidentdf1 = pd.read_csv('archive/accidents_2005_to_2007.csv')\n",
    "accidentdf2 = pd.read_csv('archive/accidents_2009_to_2011.csv')\n",
    "accidentdf3 = pd.read_csv('archive/accidents_2012_to_2014.csv')\n",
    "\n",
    "df_concat = pd.concat([accidentdf1, accidentdf2, accidentdf3])"
   ]
  },
  {
   "cell_type": "code",
   "execution_count": null,
   "id": "0a6a2b6e",
   "metadata": {},
   "outputs": [
    {
     "name": "stdout",
     "output_type": "stream",
     "text": [
      "              precision    recall  f1-score        support\n",
      "1              0.024024  0.346302  0.044930    3881.000000\n",
      "2              0.161518  0.100566  0.123954   40809.000000\n",
      "3              0.866390  0.741934  0.799347  255233.000000\n",
      "accuracy       0.649547  0.649547  0.649547       0.649547\n",
      "macro avg      0.350644  0.396267  0.322744  299923.000000\n",
      "weighted avg   0.759581  0.649547  0.697687  299923.000000\n"
     ]
    }
   ],
   "source": [
    "df = df_concat.drop(columns = ['Accident_Index','Location_Easting_OSGR',\n",
    "                            'Location_Northing_OSGR','Date','LSOA_of_Accident_Location',\n",
    "                            'Local_Authority_(District)','Local_Authority_(Highway)',\n",
    "                            '1st_Road_Number','Longitude','Latitude',\n",
    "                            '1st_Road_Class', 'Road_Type',\n",
    "                            'Police_Force','Junction_Detail',\n",
    "                            '2nd_Road_Class','2nd_Road_Number'\n",
    "                            ])\n",
    "\n",
    "# print(df.info())\n",
    "df['Junction_Control'] = df['Junction_Control'].fillna('No junction')\n",
    "df['Light_Conditions'] = df['Light_Conditions'].replace(\n",
    "    {'Darkeness: No street lighting': 'Darkness: No street lighting'}\n",
    ")\n",
    "df['Special_Conditions_at_Site'] = df['Special_Conditions_at_Site'].fillna('None')\n",
    "df['Carriageway_Hazards'] = df['Carriageway_Hazards'].fillna('None')\n",
    "\n",
    "\n",
    "df = df.dropna()\n",
    "\n",
    "scaler = sk.preprocessing.StandardScaler()\n",
    "df[['Number_of_Vehicles', 'Number_of_Casualties']] = scaler.fit_transform(df[['Number_of_Vehicles', 'Number_of_Casualties']])\n",
    "\n",
    "df = pd.get_dummies(df, columns = ['Day_of_Week', 'Time', 'Speed_limit', 'Junction_Control', 'Pedestrian_Crossing-Human_Control',\n",
    "                                   'Road_Surface_Conditions', 'Pedestrian_Crossing-Physical_Facilities',\n",
    "                                'Light_Conditions', 'Weather_Conditions', 'Road_Surface_Conditions', 'Special_Conditions_at_Site', \n",
    "                                'Carriageway_Hazards', 'Urban_or_Rural_Area',\n",
    "                               'Did_Police_Officer_Attend_Scene_of_Accident', 'Year'])\n",
    "\n",
    "x_train, x_test, y_train, y_test = sk.model_selection.train_test_split(df.drop(columns = ['Accident_Severity']), df['Accident_Severity'], test_size = 0.2, random_state = 42)"
   ]
  },
  {
   "cell_type": "code",
   "execution_count": null,
   "id": "b3af54bc",
   "metadata": {},
   "outputs": [],
   "source": [
    "naive_bayes = sk.naive_bayes.GaussianNB()\n",
    "naive_bayes.fit(x_train, y_train)\n",
    "y_hat = naive_bayes.predict(x_test)\n",
    "report = sk.metrics.classification_report(y_test, y_hat, output_dict=True)\n",
    "report = pd.DataFrame(report).transpose()\n",
    "print(report)"
   ]
  },
  {
   "cell_type": "code",
   "execution_count": null,
   "id": "d494aff3",
   "metadata": {},
   "outputs": [],
   "source": []
  },
  {
   "cell_type": "code",
   "execution_count": null,
   "id": "043fcc1b",
   "metadata": {},
   "outputs": [],
   "source": []
  }
 ],
 "metadata": {
  "kernelspec": {
   "display_name": "Python 3",
   "language": "python",
   "name": "python3"
  },
  "language_info": {
   "codemirror_mode": {
    "name": "ipython",
    "version": 3
   },
   "file_extension": ".py",
   "mimetype": "text/x-python",
   "name": "python",
   "nbconvert_exporter": "python",
   "pygments_lexer": "ipython3",
   "version": "3.13.5"
  }
 },
 "nbformat": 4,
 "nbformat_minor": 5
}
