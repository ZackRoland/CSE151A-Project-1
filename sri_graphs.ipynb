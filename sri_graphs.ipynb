{
 "cells": [
  {
   "cell_type": "code",
   "execution_count": null,
   "metadata": {},
   "outputs": [],
   "source": [
    "# Data Representation of our numeric values\n",
    "sns.heatmap(df[['Accident_Severity','Number_of_Vehicles','Number_of_Casualties','Day_of_Week','Speed_limit','Urban_or_Rural_Area']].corr(), annot = True, vmin = -1, vmax = 1, center = 0)"
   ]
  },
  {
   "cell_type": "code",
   "execution_count": null,
   "metadata": {},
   "outputs": [],
   "source": [
    "sns.countplot(x=\"Accident_Severity\", data=df)"
   ]
  },
  {
   "cell_type": "code",
   "execution_count": null,
   "metadata": {},
   "outputs": [],
   "source": [
    "sns.histplot(data=df,x=\"Number_of_Vehicles\", y=\"Number_of_Casualties\",bins=40,cbar=True)"
   ]
  },
  {
   "cell_type": "code",
   "execution_count": null,
   "metadata": {},
   "outputs": [],
   "source": [
    "junctions = list(df['Junction_Control'].unique())\n",
    "severities = sorted(list(df['Accident_Severity'].unique())) \n",
    "\n",
    "x = np.arange(len(junctions)) \n",
    "bottom = np.zeros(len(junctions))\n",
    "for i in severities:\n",
    "    counts = []\n",
    "    for j in junctions:\n",
    "        counts.append(\n",
    "            df[(df['Accident_Severity'] == i) & (df['Junction_Control'] == j)].shape[0]\n",
    "        )\n",
    "    plt.bar(x, counts, bottom=bottom, label=i, edgecolor='white', width=0.8)\n",
    "    bottom = bottom + np.array(counts)\n",
    "\n",
    "plt.xticks(x, junctions, rotation=45, ha='right')\n",
    "plt.xlabel('Junction_Control')\n",
    "plt.ylabel('Number of Accidents')\n",
    "plt.title('Accident Severity by Junction Type')\n",
    "plt.legend(title='Accident_Severity')\n",
    "plt.tight_layout()\n",
    "plt.show()"
   ]
  },
  {
   "cell_type": "code",
   "execution_count": null,
   "metadata": {},
   "outputs": [],
   "source": [
    "light = list(df['Light_Conditions'].unique())\n",
    "severities = sorted(list(df['Accident_Severity'].unique())) \n",
    "\n",
    "x = np.arange(len(junctions)) \n",
    "bottom = np.zeros(len(junctions))\n",
    "for i in severities:\n",
    "    counts = []\n",
    "    for j in light:\n",
    "        counts.append(\n",
    "            df[(df['Accident_Severity'] == i) & (df['Light_Conditions'] == j)].shape[0]\n",
    "        )\n",
    "    plt.bar(x, counts, bottom=bottom, label=i, edgecolor='white', width=0.8)\n",
    "    bottom = bottom + np.array(counts)\n",
    "\n",
    "plt.xticks(x, junctions, rotation=45, ha='right')\n",
    "plt.xlabel('Light_Conditions')\n",
    "plt.ylabel('Number of Accidents')\n",
    "plt.title('Accident Severity by Light Conditions')\n",
    "plt.legend(title='Accident_Severity')\n",
    "plt.tight_layout()\n",
    "plt.show()"
   ]
  }
 ],
 "metadata": {
  "kernelspec": {
   "display_name": "Python 3",
   "language": "python",
   "name": "python3"
  },
  "language_info": {
   "name": "python",
   "version": "3.12.1"
  }
 },
 "nbformat": 4,
 "nbformat_minor": 2
}
